{
 "cells": [
  {
   "cell_type": "code",
   "execution_count": 8,
   "metadata": {},
   "outputs": [
    {
     "data": {
      "text/plain": [
       "True"
      ]
     },
     "execution_count": 8,
     "metadata": {},
     "output_type": "execute_result"
    }
   ],
   "source": [
    "import sentencepiece as spm\n",
    "\n",
    "sp = spm.SentencePieceProcessor()\n",
    "sp.Load('/home/myk/min0/packet_tokenizer.model')"
   ]
  },
  {
   "cell_type": "code",
   "execution_count": 3,
   "metadata": {},
   "outputs": [
    {
     "name": "stdout",
     "output_type": "stream",
     "text": [
      "65536\n"
     ]
    }
   ],
   "source": [
    "print(sp.piece_size())"
   ]
  },
  {
   "cell_type": "code",
   "execution_count": 38,
   "metadata": {},
   "outputs": [],
   "source": [
    "token = ['[CLS]']\n",
    "token.extend(sp.EncodeAsPieces(\"45000034471d400040062c890a00001e9df01f10bed201bbc984686eb5fe764a801101369bea00000101080a05f66f57cc88b1d\"))\n",
    "id = sp.PieceToId(token)[:50]\n",
    "id.extend([0] * (100 - len(id)))"
   ]
  },
  {
   "cell_type": "code",
   "execution_count": 39,
   "metadata": {},
   "outputs": [
    {
     "name": "stdout",
     "output_type": "stream",
     "text": [
      "['[CLS]', '▁45000034471', 'd', '40004006', '2', 'c', '8', '9', '0', 'a', '00001', 'e', '9', 'd', 'f', '01', 'f', '1', '0', 'b', 'e', 'd', '2', '01', 'bb', 'c', '984686', 'e', 'b', '5', 'f', 'e', '7', '6', '4', 'a', '801101369', 'b', 'e', 'a', '0000', '0101080', 'a', '0', '5', 'f', '6', '6', 'f', '5', '7', 'c', 'c', '8', '8', 'b', '1', 'd']\n",
      "[1, 11944, 7, 27, 15, 8, 12, 14, 6, 4, 20, 5, 14, 7, 9, 23, 9, 11, 6, 10, 5, 7, 15, 23, 24, 8, 34121, 5, 10, 18, 9, 5, 17, 16, 13, 4, 5966, 10, 5, 4, 22, 21, 4, 6, 18, 9, 16, 16, 9, 18, 0, 0, 0, 0, 0, 0, 0, 0, 0, 0, 0, 0, 0, 0, 0, 0, 0, 0, 0, 0, 0, 0, 0, 0, 0, 0, 0, 0, 0, 0, 0, 0, 0, 0, 0, 0, 0, 0, 0, 0, 0, 0, 0, 0, 0, 0, 0, 0, 0, 0]\n"
     ]
    }
   ],
   "source": [
    "print(token)\n",
    "print(id)"
   ]
  },
  {
   "cell_type": "code",
   "execution_count": 42,
   "metadata": {},
   "outputs": [
    {
     "name": "stdout",
     "output_type": "stream",
     "text": [
      "0 3\n"
     ]
    }
   ],
   "source": [
    "pad_id, sep_id = sp.PieceToId('[PAD]'),sp.PieceToId('[SEP]')\n",
    "print(pad_id, sep_id)"
   ]
  }
 ],
 "metadata": {
  "kernelspec": {
   "display_name": "Python 3",
   "language": "python",
   "name": "python3"
  },
  "language_info": {
   "codemirror_mode": {
    "name": "ipython",
    "version": 3
   },
   "file_extension": ".py",
   "mimetype": "text/x-python",
   "name": "python",
   "nbconvert_exporter": "python",
   "pygments_lexer": "ipython3",
   "version": "3.10.12"
  }
 },
 "nbformat": 4,
 "nbformat_minor": 2
}
