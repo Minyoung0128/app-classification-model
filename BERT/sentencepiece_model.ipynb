{
 "cells": [
  {
   "cell_type": "code",
   "execution_count": null,
   "metadata": {},
   "outputs": [],
   "source": [
    "import numpy as np\n",
    "import torch\n",
    "import torch.nn as nn\n",
    "import torch.nn.functional as F\n",
    "\n",
    "import sys\n",
    "sys.path.append('/home/myk/min0')\n",
    "\n",
    "sys.path.append('/home/myk/min0/traffic-classification')\n",
    "sys.path.append('/home/myk/min0/traffic-classification/Model')\n",
    "import DataRepresentation.Label2Int as pp\n",
    "from Transformer.layer import EmbeddingLayer"
   ]
  },
  {
   "cell_type": "code",
   "execution_count": null,
   "metadata": {},
   "outputs": [],
   "source": [
    "import random\n",
    "\n",
    "def seed_everything(seed):\n",
    "    torch.manual_seed(seed) #torch를 거치는 모든 난수들의 생성순서를 고정한다\n",
    "    torch.cuda.manual_seed(seed) #cuda를 사용하는 메소드들의 난수시드는 따로 고정해줘야한다 \n",
    "    torch.cuda.manual_seed_all(seed)  # if use multi-GPU\n",
    "    torch.backends.cudnn.deterministic = True #딥러닝에 특화된 CuDNN의 난수시드도 고정 \n",
    "    torch.backends.cudnn.benchmark = False\n",
    "    np.random.seed(seed) #numpy를 사용할 경우 고정\n",
    "    random.seed(seed) #파이썬 자체 모듈 random 모듈의 시드 고정\n",
    "seed_everything(42)"
   ]
  },
  {
   "cell_type": "code",
   "execution_count": null,
   "metadata": {},
   "outputs": [],
   "source": [
    "x = np.load('/home/myk/min0/sentencepiece_10.npy')\n",
    "y = pp.getlabel('/home/myk/min0/metadata.csv')\n",
    "print(x.shape)\n",
    "print(y.shape)\n",
    "num_index = int(np.max(x))\n",
    "print(num_index)"
   ]
  },
  {
   "cell_type": "code",
   "execution_count": null,
   "metadata": {},
   "outputs": [],
   "source": [
    "device = torch.device(\"cuda\" if torch.cuda.is_available() else \"cpu\")\n",
    "# device =\"cpu\"\n",
    "print(device)"
   ]
  },
  {
   "cell_type": "code",
   "execution_count": null,
   "metadata": {},
   "outputs": [],
   "source": [
    "batch = 8\n",
    "lr = 0.001\t\n",
    "epoch = 20\n",
    "\t\n",
    "embedding_dim = 32\n",
    "n_layer = 4\t\n",
    "n_head = 8\n",
    "dim_ff = 16\n",
    "dropout = 0.3\n",
    "output_size = 20\t"
   ]
  },
  {
   "cell_type": "code",
   "execution_count": null,
   "metadata": {},
   "outputs": [],
   "source": [
    "from sklearn.model_selection import train_test_split\n",
    "from torch.utils.data import Dataset, DataLoader\n",
    "\n",
    "# train, test dataset split\n",
    "x_train, x_test, y_train, y_test = train_test_split(x,y,test_size=0.2,shuffle=True, random_state=42)\n",
    "\n",
    "class CustomDataset(Dataset):\n",
    "    def __init__(self, x_data, y_data):\n",
    "        self.x_data = x_data\n",
    "        self.y_data = y_data\n",
    "\n",
    "    def __len__(self):\n",
    "        return len(self.x_data)\n",
    "\n",
    "    def __getitem__(self, idx):\n",
    "        x = self.x_data[idx]\n",
    "        y = self.y_data[idx]\n",
    "        return x, y\n",
    "\n",
    "train_dataset = CustomDataset(x_train,y_train)\n",
    "test_dataset = CustomDataset(x_test, y_test)\n",
    "\n",
    "train_loader = DataLoader(train_dataset, batch_size=batch, shuffle=True,drop_last=True)\n",
    "test_loader = DataLoader(test_dataset, batch_size=batch, shuffle=True,drop_last=True)\n",
    "\n",
    "print(x_train.shape)\n",
    "print(x_test.shape)\n",
    "print(batch)"
   ]
  },
  {
   "cell_type": "code",
   "execution_count": null,
   "metadata": {},
   "outputs": [],
   "source": [
    "class transformer(nn.Module):\n",
    "    def __init__(self, num_embeddings, embedding_dim,  n_layer, n_head, dim_ff, dropout, output_size, device=\"cuda\"):\n",
    "        \n",
    "        super(transformer, self).__init__()\n",
    "        \n",
    "        token_embed = EmbeddingLayer.TokenEmbedding(max_len = num_embeddings, d_embed=embedding_dim)\n",
    "        pos_embed = EmbeddingLayer.PositionalEmbedding(d_embedding=embedding_dim, max_len = num_embeddings, device=device)\n",
    "        self.embedding = EmbeddingLayer.Embedding(token_embed, pos_embed).to(device)\n",
    "        encoder_layer = nn.TransformerEncoderLayer(d_model=embedding_dim, nhead=n_head, dim_feedforward=dim_ff, dropout=dropout, batch_first=True)\n",
    "        self.encoder = nn.TransformerEncoder(encoder_layer=encoder_layer, num_layers=n_layer)\n",
    "        \n",
    "        #self.classifier = classifier_2dCNN(900 ,output_size,dropout).to(device)\n",
    "        self.classifier = nn.Sequential(\n",
    "            nn.Linear(20040,200),\n",
    "            nn.GELU(),\n",
    "            nn.Linear(200, output_size)\n",
    "        )\n",
    "    def forward(self, x, mask):\n",
    "        out = self.embedding(x)\n",
    "        print(\"after embedding\",out.shape)\n",
    "        out = self.encoder(out, src_key_padding_mask = mask)\n",
    "        print(\"after encoder\",out.shape)\n",
    "        out = out.permute\n",
    "        out = self.classifier(out)\n",
    "        return out"
   ]
  },
  {
   "cell_type": "code",
   "execution_count": null,
   "metadata": {},
   "outputs": [],
   "source": [
    "model = transformer(num_embeddings=num_index+1, embedding_dim= embedding_dim, n_layer=n_layer, n_head=n_head, dim_ff=dim_ff, dropout=dropout,output_size=output_size, device=device )"
   ]
  },
  {
   "cell_type": "code",
   "execution_count": null,
   "metadata": {},
   "outputs": [],
   "source": [
    "model = torch.nn.DataParallel(model).to(device)"
   ]
  },
  {
   "cell_type": "code",
   "execution_count": null,
   "metadata": {},
   "outputs": [],
   "source": [
    "criterion = torch.nn.CrossEntropyLoss()\n",
    "optim = torch.optim.Adam(model.parameters(), lr=lr)"
   ]
  },
  {
   "cell_type": "code",
   "execution_count": null,
   "metadata": {},
   "outputs": [],
   "source": [
    "def src_key_padding_mask(x, pad_idx = 0):\n",
    "    '''\n",
    "    input : x [ batch, seq_len ]\n",
    "    output : mask [batch, seq_len]\n",
    "    input애서 pad_idx인 부분을 true로, 나머지는 false로 채운 mask를 생성하는 함수 \n",
    "    '''\n",
    "    mask = (x == pad_idx)\n",
    "    return mask"
   ]
  },
  {
   "cell_type": "code",
   "execution_count": null,
   "metadata": {},
   "outputs": [],
   "source": [
    "\n",
    "for i in range(epoch):\n",
    "    for j,[data,label] in enumerate(train_loader):\n",
    "        data = data.type(torch.LongTensor)\n",
    "        label = label.type(torch.LongTensor)\n",
    "        x = data.to(device)\n",
    "        y = label.to(device)\n",
    "        mask = src_key_padding_mask(x).to(device)\n",
    "    \n",
    "        outputs = model(x,mask)\n",
    "        # 손실 계산\n",
    "        loss = criterion(outputs, y)\n",
    "        \n",
    "        # 역전파 및 가중치 업데이트\n",
    "        optim.zero_grad()\n",
    "        loss.backward()\n",
    "        optim.step()\n",
    "        \n",
    "    if (i+1) % 10 == 0:\n",
    "        print(f'epoch {(i+1)} :  Loss: {loss.item()}')"
   ]
  }
 ],
 "metadata": {
  "kernelspec": {
   "display_name": "Python 3",
   "language": "python",
   "name": "python3"
  },
  "language_info": {
   "codemirror_mode": {
    "name": "ipython",
    "version": 3
   },
   "file_extension": ".py",
   "mimetype": "text/x-python",
   "name": "python",
   "nbconvert_exporter": "python",
   "pygments_lexer": "ipython3",
   "version": "3.10.12"
  }
 },
 "nbformat": 4,
 "nbformat_minor": 2
}
