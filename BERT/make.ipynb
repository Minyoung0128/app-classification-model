{
 "cells": [
  {
   "cell_type": "code",
   "execution_count": 1,
   "metadata": {},
   "outputs": [
    {
     "name": "stdout",
     "output_type": "stream",
     "text": [
      "Max length is 500\n",
      "0번째까지 완료\n",
      "torch.Size([500])\n",
      "1000번째까지 완료\n",
      "torch.Size([500500])\n",
      "2000번째까지 완료\n",
      "torch.Size([1000500])\n",
      "3000번째까지 완료\n",
      "torch.Size([1500500])\n",
      "torch.Size([3180, 500])\n"
     ]
    }
   ],
   "source": [
    "\n",
    "import tokenizer\n",
    "import numpy as np\n",
    "t = tokenizer.Embedding('../metadata.csv',1,'../as')\n",
    "x = t.triple2token()"
   ]
  },
  {
   "cell_type": "code",
   "execution_count": 2,
   "metadata": {},
   "outputs": [
    {
     "name": "stdout",
     "output_type": "stream",
     "text": [
      "tensor([[   1,    2,    3,  ...,    0,    0,    0],\n",
      "        [   1,    2,    3,  ...,    0,    0,    0],\n",
      "        [   1,    2,    3,  ...,    3,    3,   14],\n",
      "        ...,\n",
      "        [   1,    2,    3,  ...,  100,    5,    5],\n",
      "        [   1,    1,    2,  ...,    3,    3,    3],\n",
      "        [   1,    1,    2,  ..., 1058, 1058, 1058]], dtype=torch.int32)\n"
     ]
    }
   ],
   "source": [
    "print(x)"
   ]
  },
  {
   "cell_type": "code",
   "execution_count": 3,
   "metadata": {},
   "outputs": [
    {
     "name": "stdout",
     "output_type": "stream",
     "text": [
      "torch.Size([3180, 500])\n"
     ]
    }
   ],
   "source": [
    "print(x.shape)"
   ]
  },
  {
   "cell_type": "code",
   "execution_count": 4,
   "metadata": {},
   "outputs": [],
   "source": [
    "np.save('x_triple2token_500.npy',x)"
   ]
  }
 ],
 "metadata": {
  "kernelspec": {
   "display_name": "Python 3",
   "language": "python",
   "name": "python3"
  },
  "language_info": {
   "codemirror_mode": {
    "name": "ipython",
    "version": 3
   },
   "file_extension": ".py",
   "mimetype": "text/x-python",
   "name": "python",
   "nbconvert_exporter": "python",
   "pygments_lexer": "ipython3",
   "version": "3.10.12"
  }
 },
 "nbformat": 4,
 "nbformat_minor": 2
}
