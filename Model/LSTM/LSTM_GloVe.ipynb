{
 "cells": [
  {
   "cell_type": "code",
   "execution_count": 1,
   "metadata": {},
   "outputs": [
    {
     "name": "stderr",
     "output_type": "stream",
     "text": [
      "/home/myk/.local/lib/python3.10/site-packages/numpy/core/getlimits.py:549: UserWarning: The value of the smallest subnormal for <class 'numpy.float64'> type is zero.\n",
      "  setattr(self, word, getattr(machar, word).flat[0])\n",
      "/home/myk/.local/lib/python3.10/site-packages/numpy/core/getlimits.py:89: UserWarning: The value of the smallest subnormal for <class 'numpy.float64'> type is zero.\n",
      "  return self._float_to_str(self.smallest_subnormal)\n",
      "/home/myk/.local/lib/python3.10/site-packages/numpy/core/getlimits.py:549: UserWarning: The value of the smallest subnormal for <class 'numpy.float32'> type is zero.\n",
      "  setattr(self, word, getattr(machar, word).flat[0])\n",
      "/home/myk/.local/lib/python3.10/site-packages/numpy/core/getlimits.py:89: UserWarning: The value of the smallest subnormal for <class 'numpy.float32'> type is zero.\n",
      "  return self._float_to_str(self.smallest_subnormal)\n"
     ]
    }
   ],
   "source": [
    "import sys\n",
    "sys.path.append('/home/myk/min0/')\n",
    "\n",
    "from glove import Glove\n",
    "\n",
    "import numpy as np\n",
    "import torch\n",
    "import pandas as pd\n",
    "import preprocess as pp\n",
    "import LSTM\n",
    "import random"
   ]
  },
  {
   "cell_type": "code",
   "execution_count": 2,
   "metadata": {},
   "outputs": [],
   "source": [
    "def seed_everything(seed):\n",
    "    torch.manual_seed(seed) #torch를 거치는 모든 난수들의 생성순서를 고정한다\n",
    "    torch.cuda.manual_seed(seed) #cuda를 사용하는 메소드들의 난수시드는 따로 고정해줘야한다 \n",
    "    torch.cuda.manual_seed_all(seed)  # if use multi-GPU\n",
    "    torch.backends.cudnn.deterministic = True #딥러닝에 특화된 CuDNN의 난수시드도 고정 \n",
    "    torch.backends.cudnn.benchmark = False\n",
    "    np.random.seed(seed) #numpy를 사용할 경우 고정\n",
    "    random.seed(seed) #파이썬 자체 모듈 random 모듈의 시드 고정\n",
    "seed_everything(42)"
   ]
  },
  {
   "cell_type": "code",
   "execution_count": 3,
   "metadata": {},
   "outputs": [
    {
     "name": "stdout",
     "output_type": "stream",
     "text": [
      "0 is arkio\n",
      "1 is bigballers\n",
      "2 is bigscreen\n",
      "3 is blaston\n",
      "4 is campfire\n",
      "5 is epicrollercoasters\n",
      "6 is firsthand\n",
      "7 is firsttouch\n",
      "8 is fitxr\n",
      "9 is godsofgravity\n",
      "10 is gorillatag\n",
      "11 is gunraiders\n",
      "12 is horizonworkrooms\n",
      "13 is horizonworlds\n",
      "14 is hyperdash\n",
      "15 is immersed\n",
      "16 is netflix\n",
      "17 is roblox\n",
      "18 is vrchat\n",
      "19 is youtube\n"
     ]
    }
   ],
   "source": [
    "x = np.load('../sc_triple2token.npy')\n",
    "y = pp.getlabel('../sc_label.csv')\n",
    "\n",
    "num_index = np.max(x)"
   ]
  },
  {
   "cell_type": "code",
   "execution_count": 4,
   "metadata": {},
   "outputs": [
    {
     "name": "stdout",
     "output_type": "stream",
     "text": [
      "2920\n"
     ]
    }
   ],
   "source": [
    "print(num_index)"
   ]
  },
  {
   "cell_type": "code",
   "execution_count": 5,
   "metadata": {},
   "outputs": [],
   "source": [
    "'''\n",
    "hyperparameters\n",
    "\n",
    "input_size : 하나의 패킷을 Embedding할때, Embedding 차원을 결정 \n",
    "             > Glove를 사용할 땐 미리 Glove model에서 설정해줘서 학습시켜준 모델을 가져와야함.. \n",
    "output_size : class 개수\n",
    "hidden_dim : LSTM Layer가 return 하는 차원의 dimension, fc layer로 연결\n",
    "num_layers : LSTM Layer의 개수\n",
    "\n",
    "'''\n",
    "input_size = 400        \n",
    "output_size = 20\n",
    "hidden_dim = 200\n",
    "num_layers = 3\n",
    "batch = 16\n",
    "lr = 0.001\n",
    "epoch = 100"
   ]
  },
  {
   "cell_type": "code",
   "execution_count": 6,
   "metadata": {},
   "outputs": [
    {
     "name": "stdout",
     "output_type": "stream",
     "text": [
      "cuda\n"
     ]
    }
   ],
   "source": [
    "device = torch.device(\"cuda\" if torch.cuda.is_available() else \"cpu\")\n",
    "print(device)"
   ]
  },
  {
   "cell_type": "code",
   "execution_count": 7,
   "metadata": {},
   "outputs": [
    {
     "name": "stdout",
     "output_type": "stream",
     "text": [
      "LSTM_withGlove(\n",
      "  (embedding): Embedding(2921, 400)\n",
      "  (lstm): LSTM(400, 200, num_layers=3, batch_first=True, dropout=0.22, bidirectional=True)\n",
      "  (fc): Linear(in_features=200, out_features=20, bias=True)\n",
      ")\n"
     ]
    }
   ],
   "source": [
    "model = LSTM.LSTM_withGlove(num_index+1, input_size,hidden_dim,output_size,num_layers,'sc_glove_2.model').to(device)\n",
    "print(model)"
   ]
  },
  {
   "cell_type": "code",
   "execution_count": 8,
   "metadata": {},
   "outputs": [],
   "source": [
    "criterion = torch.nn.CrossEntropyLoss()\n",
    "optim = torch.optim.Adam(model.parameters(), lr=lr)"
   ]
  },
  {
   "cell_type": "code",
   "execution_count": 9,
   "metadata": {},
   "outputs": [
    {
     "name": "stdout",
     "output_type": "stream",
     "text": [
      "(1907, 900)\n",
      "(1907,)\n"
     ]
    }
   ],
   "source": [
    "from sklearn.model_selection import train_test_split\n",
    "\n",
    "x_train, x_test, y_train, y_test = train_test_split(x,y,test_size=0.2,shuffle=True, random_state=1)\n",
    "\n",
    "print(x_train.shape)\n",
    "print(y_train.shape)"
   ]
  },
  {
   "cell_type": "code",
   "execution_count": 10,
   "metadata": {},
   "outputs": [],
   "source": [
    "from torch.utils.data import Dataset, DataLoader\n",
    "\n",
    "class CustomDataset(Dataset):\n",
    "    def __init__(self, x_data, y_data):\n",
    "        self.x_data = x_data\n",
    "        self.y_data = y_data\n",
    "\n",
    "    def __len__(self):\n",
    "        return len(self.x_data)\n",
    "\n",
    "    def __getitem__(self, idx):\n",
    "        x = self.x_data[idx]\n",
    "        y = self.y_data[idx]\n",
    "        return x, y\n",
    "\n",
    "train_dataset = CustomDataset(x_train,y_train)\n",
    "test_dataset = CustomDataset(x_test, y_test)\n",
    "\n",
    "train_loader = DataLoader(train_dataset, batch_size=batch, shuffle=True,drop_last=True)\n",
    "test_loader = DataLoader(test_dataset, batch_size=batch, shuffle=True,drop_last=True)"
   ]
  },
  {
   "cell_type": "code",
   "execution_count": 11,
   "metadata": {},
   "outputs": [
    {
     "name": "stdout",
     "output_type": "stream",
     "text": [
      "epoch 10 :  Loss: 2.951679229736328\n",
      "epoch 20 :  Loss: 2.36057710647583\n",
      "epoch 30 :  Loss: 1.6366839408874512\n",
      "epoch 40 :  Loss: 0.8603862524032593\n",
      "epoch 50 :  Loss: 0.43757036328315735\n",
      "epoch 60 :  Loss: 0.7311195135116577\n",
      "epoch 70 :  Loss: 0.13480623066425323\n",
      "epoch 80 :  Loss: 0.21032503247261047\n",
      "epoch 90 :  Loss: 0.5347331166267395\n",
      "epoch 100 :  Loss: 0.15354974567890167\n"
     ]
    }
   ],
   "source": [
    "\n",
    "for i in range(epoch):\n",
    "    for j,[data,label] in enumerate(train_loader):\n",
    "        label = label.type(torch.LongTensor)\n",
    "        x = data.to(device)\n",
    "        y = label.to(device)\n",
    "        outputs = model.forward(x)\n",
    "        # 손실 계산\n",
    "        loss = criterion(outputs, y)\n",
    "        \n",
    "        # 역전파 및 가중치 업데이트\n",
    "        optim.zero_grad()\n",
    "        loss.backward()\n",
    "        optim.step()\n",
    "        \n",
    "    if (i+1) % 10 == 0:\n",
    "        print(f'epoch {(i+1)} :  Loss: {loss.item()}')"
   ]
  },
  {
   "cell_type": "code",
   "execution_count": 12,
   "metadata": {},
   "outputs": [
    {
     "name": "stdout",
     "output_type": "stream",
     "text": [
      "Accuracy of Test Data: 72.62931060791016%\n"
     ]
    }
   ],
   "source": [
    "model.eval()\n",
    "\n",
    "total =0\n",
    "correct=0\n",
    "incorrect_num_correct = np.zeros(120)\n",
    "incorrect_num_answer = np.zeros(120)\n",
    "with torch.no_grad():\n",
    "    for image,label in test_loader:\n",
    "        x = image.to(device)\n",
    "        y= label.to(device)\n",
    "        output = model.forward(x)\n",
    "        \n",
    "        # torch.max함수는 (최댓값,index)를 반환 \n",
    "        _,output_index = torch.max(output,1)\n",
    "        \n",
    "        # 전체 개수 += 라벨의 개수\n",
    "        total += label.size(0)\n",
    "        \n",
    "        # 도출한 모델의 index와 라벨이 일치하면 correct에 개수 추가\n",
    "        correct += (output_index == y).sum().float()\n",
    "        \n",
    "        for i in range(len(y)):\n",
    "            if y[i]!=output_index[i]:\n",
    "                k = int(y[i].cpu().numpy())\n",
    "                incorrect_num_correct[k] += 1\n",
    "                incorrect_num_answer[int(output_index[i].cpu().numpy())]+=1\n",
    "\n",
    "    \n",
    "    # 정확도 도출\n",
    "    print(\"Accuracy of Test Data: {}%\".format(100*correct/total))\n",
    "   "
   ]
  },
  {
   "cell_type": "code",
   "execution_count": null,
   "metadata": {},
   "outputs": [],
   "source": []
  }
 ],
 "metadata": {
  "kernelspec": {
   "display_name": "Python 3",
   "language": "python",
   "name": "python3"
  },
  "language_info": {
   "codemirror_mode": {
    "name": "ipython",
    "version": 3
   },
   "file_extension": ".py",
   "mimetype": "text/x-python",
   "name": "python",
   "nbconvert_exporter": "python",
   "pygments_lexer": "ipython3",
   "version": "3.10.12"
  }
 },
 "nbformat": 4,
 "nbformat_minor": 2
}
