{
 "cells": [
  {
   "cell_type": "code",
   "execution_count": null,
   "metadata": {},
   "outputs": [],
   "source": [
    "import os\n",
    "import numpy as np\n",
    "import torch \n",
    "import pandas as pd\n",
    "import preprocess as pp\n",
    "from sklearn.model_selection import train_test_split\n",
    "from torch.utils.data import Dataset, DataLoader\n",
    "# for CNN model \n",
    "import torch.nn as nn\n",
    "import torch.optim as optim\n",
    "import torch.nn.init as isinstance\n",
    "\n",
    "import torch.utils.data"
   ]
  },
  {
   "cell_type": "code",
   "execution_count": 4,
   "metadata": {},
   "outputs": [
    {
     "name": "stdout",
     "output_type": "stream",
     "text": [
      "Packet Max Length is 51\n",
      "Final data shape is torch.Size([5787, 51, 1088])\n",
      "총 실행 시간  41.13045406341553\n",
      "About Label : \n",
      "0 is mac_mac-os-x\n",
      "1 is none_kali-linux\n",
      "2 is ubuntu_ubuntu-14.4-32b\n",
      "3 is ubuntu_ubuntu-14.4-64b\n",
      "4 is ubuntu_ubuntu-16.4-32b\n",
      "5 is ubuntu_ubuntu-16.4-64b\n",
      "6 is ubuntu_ubuntu-server\n",
      "7 is ubuntu_web-server\n",
      "8 is windows_windows-10\n",
      "9 is windows_windows-10-pro\n",
      "10 is windows_windows-7-pro\n",
      "11 is windows_windows-8.1\n",
      "12 is windows_windows-vista\n"
     ]
    }
   ],
   "source": [
    "x = pp.preprocess(2,\"accstudy\",\"metadata.csv\")\n",
    "\n",
    "print(\"About Label : \")\n",
    "y = pp.getlabel(\"os/metadata.csv\")"
   ]
  },
  {
   "cell_type": "code",
   "execution_count": 5,
   "metadata": {},
   "outputs": [],
   "source": [
    "np.save(\"acc_x_nprint.npy\",x)"
   ]
  },
  {
   "cell_type": "code",
   "execution_count": null,
   "metadata": {},
   "outputs": [],
   "source": [
    "# data split\n",
    "\n",
    "x_train, x_test, y_train, y_test = train_test_split(x,y,test_size=0.2,shuffle=True, random_state=1)\n",
    "\n",
    "print(x_train.shape)\n",
    "print(y_train.shape)"
   ]
  },
  {
   "cell_type": "code",
   "execution_count": null,
   "metadata": {},
   "outputs": [],
   "source": [
    "# data imbalance 검사 \n",
    "\n",
    "pd.DataFrame(y_train).value_counts()"
   ]
  },
  {
   "cell_type": "code",
   "execution_count": null,
   "metadata": {},
   "outputs": [],
   "source": [
    "# setting parameter\n",
    "\n",
    "batch_size = 16\n",
    "lr = 0.001\n",
    "epoch=10"
   ]
  },
  {
   "cell_type": "code",
   "execution_count": null,
   "metadata": {},
   "outputs": [],
   "source": [
    "class CustomDataset(Dataset):\n",
    "    def __init__(self, x_data, y_data):\n",
    "        self.x_data = x_data.float()\n",
    "        self.y_data = y_data.float()\n",
    "\n",
    "    def __len__(self):\n",
    "        return len(self.x_data)\n",
    "\n",
    "    def __getitem__(self, idx):\n",
    "        x = self.x_data[idx].unsqueeze(0)\n",
    "        y = self.y_data[idx]\n",
    "        return x, y"
   ]
  },
  {
   "cell_type": "code",
   "execution_count": null,
   "metadata": {},
   "outputs": [],
   "source": [
    "train_dataset = CustomDataset(x_train,y_train)\n",
    "test_dataset = CustomDataset(x_test, y_test)\n",
    "\n",
    "train_loader = DataLoader(train_dataset, batch_size=batch_size, shuffle=True,drop_last=True)\n",
    "test_loader = DataLoader(test_dataset, batch_size=batch_size, shuffle=True,drop_last=True)"
   ]
  },
  {
   "cell_type": "code",
   "execution_count": null,
   "metadata": {},
   "outputs": [],
   "source": [
    "# CNN model 제작 \n",
    "\n",
    "class CNN(nn.Module):\n",
    "    def __init__(self):\n",
    "        super(CNN,self).__init__()\n",
    "        \n",
    "        self.layer= nn.Sequential(\n",
    "            nn.Conv2d(in_channels=1, out_channels=16, kernel_size=4),\n",
    "            nn.ReLU(),\n",
    "            \n",
    "            nn.Conv2d(16,32,kernel_size=4),\n",
    "            nn.ReLU(),\n",
    "            \n",
    "            nn.MaxPool2d(kernel_size=2),\n",
    "            \n",
    "            nn.Conv2d(32,64,kernel_size=4),\n",
    "            nn.ReLU(),\n",
    "             \n",
    "            nn.Conv2d(64,128,kernel_size=4),\n",
    "            nn.ReLU(),\n",
    "            \n",
    "            nn.MaxPool2d(kernel_size=2)\n",
    "        )\n",
    "        \n",
    "        self.fc_layer = nn.Sequential(\n",
    "            nn.Linear(128* 8*267,500),\n",
    "            nn.Linear(500,7)\n",
    "        )\n",
    "        \n",
    "    def forward (self, x):\n",
    "        out = self.layer(x)\n",
    "        out_reshape = out.view(batch_size, -1)\n",
    "        out_final = self.fc_layer(out_reshape)\n",
    "        return out_final"
   ]
  },
  {
   "cell_type": "code",
   "execution_count": null,
   "metadata": {},
   "outputs": [],
   "source": [
    "device = torch.device(\"cuda\" if torch.cuda.is_available() else \"cpu\")\n",
    "\n",
    "print(device)\n",
    "\n",
    "model = CNN().to(device)"
   ]
  },
  {
   "cell_type": "code",
   "execution_count": null,
   "metadata": {},
   "outputs": [],
   "source": [
    "# loss, optim function 설정\n",
    "\n",
    "loss = nn.CrossEntropyLoss()\n",
    "\n",
    "optim = torch.optim.Adam(model.parameters(),lr=lr)"
   ]
  },
  {
   "cell_type": "code",
   "execution_count": null,
   "metadata": {},
   "outputs": [],
   "source": [
    "for i in range(epoch):\n",
    "    for j,[image,label] in enumerate(train_loader):\n",
    "        x = image.to(device)\n",
    "\n",
    "        y = label.to(device)\n",
    "        \n",
    "        optim.zero_grad()\n",
    "        \n",
    "        output = model.forward(x)\n",
    "        \n",
    "        y = y.type(torch.long)\n",
    "        l = loss(output,y)\n",
    "        l.backward()\n",
    "        optim.step()\n",
    "        \n",
    "    if i % 1 == 0:\n",
    "        print(f'epoch {i} :  Loss: {l.item()}')"
   ]
  },
  {
   "cell_type": "code",
   "execution_count": null,
   "metadata": {},
   "outputs": [],
   "source": [
    "torch.save(model, 'cnn.pt') # 모델 저장장"
   ]
  },
  {
   "cell_type": "code",
   "execution_count": null,
   "metadata": {},
   "outputs": [],
   "source": [
    "from sklearn.metrics import f1_score\n",
    "\n",
    "correct = 0\n",
    "total = 0\n",
    "\n",
    "# evaluate model\n",
    "model.eval()\n",
    "\n",
    "with torch.no_grad():\n",
    "    for image,label in test_loader:\n",
    "        x = image.to(device)\n",
    "        y= label.to(device)\n",
    "\n",
    "        output = model.forward(x)\n",
    "        \n",
    "        # torch.max함수는 (최댓값,index)를 반환 \n",
    "        _,output_index = torch.max(output,1)\n",
    "        \n",
    "        # 전체 개수 += 라벨의 개수\n",
    "        total += label.size(0)\n",
    "        \n",
    "        # 도출한 모델의 index와 라벨이 일치하면 correct에 개수 추가\n",
    "        correct += (output_index == y).sum().float()\n",
    "    \n",
    "    print(\"Accuracy of Test Data: {}%\".format(100*correct/total))"
   ]
  },
  {
   "cell_type": "code",
   "execution_count": null,
   "metadata": {},
   "outputs": [],
   "source": [
    "torch.save(model,'cnn.pt')"
   ]
  }
 ],
 "metadata": {
  "kernelspec": {
   "display_name": "Python 3",
   "language": "python",
   "name": "python3"
  },
  "language_info": {
   "codemirror_mode": {
    "name": "ipython",
    "version": 3
   },
   "file_extension": ".py",
   "mimetype": "text/x-python",
   "name": "python",
   "nbconvert_exporter": "python",
   "pygments_lexer": "ipython3",
   "version": "3.10.12"
  }
 },
 "nbformat": 4,
 "nbformat_minor": 2
}
