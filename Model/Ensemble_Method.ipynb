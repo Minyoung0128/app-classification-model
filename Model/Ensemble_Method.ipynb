{
 "cells": [
  {
   "cell_type": "code",
   "execution_count": 1,
   "metadata": {},
   "outputs": [],
   "source": [
    "import sys\n",
    "sys.path.append('/home/myk/min0/LCNN')\n",
    "sys.path.append('/home/myk/min0/LSTM')\n",
    "import torch\n",
    "import numpy as np\n",
    "import pandas as pd\n",
    "import random\n",
    "import preprocess as pp"
   ]
  },
  {
   "cell_type": "code",
   "execution_count": 2,
   "metadata": {},
   "outputs": [],
   "source": [
    "def seed_everything(seed):\n",
    "    torch.manual_seed(seed) #torch를 거치는 모든 난수들의 생성순서를 고정한다\n",
    "    torch.cuda.manual_seed(seed) #cuda를 사용하는 메소드들의 난수시드는 따로 고정해줘야한다 \n",
    "    torch.cuda.manual_seed_all(seed)  # if use multi-GPU\n",
    "    torch.backends.cudnn.deterministic   \n",
    "    torch.backends.cudnn.benchmark = False\n",
    "    np.random.seed(seed) #numpy를 사용할 경우 고정\n",
    "    random.seed(seed) #파이썬 자체 모듈 random 모듈의 시드 고정\n",
    "seed_everything(42)"
   ]
  },
  {
   "cell_type": "code",
   "execution_count": 3,
   "metadata": {},
   "outputs": [
    {
     "name": "stdout",
     "output_type": "stream",
     "text": [
      "0 is arkio\n",
      "1 is bigballers\n",
      "2 is bigscreen\n",
      "3 is blaston\n",
      "4 is campfire\n",
      "5 is epicrollercoasters\n",
      "6 is firsthand\n",
      "7 is firsttouch\n",
      "8 is fitxr\n",
      "9 is godsofgravity\n",
      "10 is gorillatag\n",
      "11 is gunraiders\n",
      "12 is horizonworkrooms\n",
      "13 is horizonworlds\n",
      "14 is hyperdash\n",
      "15 is immersed\n",
      "16 is netflix\n",
      "17 is roblox\n",
      "18 is vrchat\n",
      "19 is youtube\n"
     ]
    }
   ],
   "source": [
    "x = np.load('x_triple2token_dict.npy')\n",
    "y = pp.getlabel(\"metadata.csv\")\n",
    "\n",
    "LCNN_model = torch.load('LCNN/LCNN_ver7.pt')\n",
    "LSTM_model = torch.load('LSTM/LSTM_triple2token_ver1.pt')\n",
    "Glove_model = torch.load('LSTM/LSTM_GLove_ver2.pt')\n",
    "LCNNwG_model = torch.load('LCNN/LCNN_withGlove_ver1.pt')"
   ]
  },
  {
   "cell_type": "code",
   "execution_count": 4,
   "metadata": {},
   "outputs": [
    {
     "name": "stdout",
     "output_type": "stream",
     "text": [
      "cuda\n"
     ]
    }
   ],
   "source": [
    "batch = 16\n",
    "\n",
    "device = torch.device(\"cuda\" if torch.cuda.is_available() else \"cpu\")\n",
    "print(device)"
   ]
  },
  {
   "cell_type": "code",
   "execution_count": 5,
   "metadata": {},
   "outputs": [],
   "source": [
    "from sklearn.model_selection import train_test_split\n",
    "\n",
    "x_train, x_test, y_train, y_test = train_test_split(x,y,test_size=0.2,shuffle=True, random_state=1)\n",
    "\n",
    "from torch.utils.data import Dataset, DataLoader\n",
    "\n",
    "class CustomDataset(Dataset):\n",
    "    def __init__(self, x_data, y_data):\n",
    "        self.x_data = x_data\n",
    "        self.y_data = y_data\n",
    "\n",
    "    def __len__(self):\n",
    "        return len(self.x_data)\n",
    "\n",
    "    def __getitem__(self, idx):\n",
    "        x = self.x_data[idx]\n",
    "        y = self.y_data[idx]\n",
    "        return x, y\n",
    "\n",
    "train_dataset = CustomDataset(x_train,y_train)\n",
    "test_dataset = CustomDataset(x_test, y_test)\n",
    "\n",
    "train_loader = DataLoader(train_dataset, batch_size=batch, shuffle=True,drop_last=True)\n",
    "test_loader = DataLoader(test_dataset, batch_size=batch, shuffle=True,drop_last=True)\n",
    "\n"
   ]
  },
  {
   "cell_type": "code",
   "execution_count": 6,
   "metadata": {},
   "outputs": [
    {
     "name": "stdout",
     "output_type": "stream",
     "text": [
      "Accuracy of Test Data: 87.3397445678711%\n"
     ]
    }
   ],
   "source": [
    "LCNN_model.eval()\n",
    "LSTM_model.eval()\n",
    "Glove_model.eval()\n",
    "LCNNwG_model.eval()\n",
    "\n",
    "total =0\n",
    "correct=0\n",
    "incorrect_num_correct = np.zeros(120)\n",
    "incorrect_num_answer = np.zeros(120)\n",
    "with torch.no_grad():\n",
    "    for image,label in test_loader:\n",
    "        x = image.to(device)\n",
    "        y= label.to(device)\n",
    "        output1 = LCNN_model.forward(x)\n",
    "        output2 = LSTM_model.forward(x)\n",
    "        output3 = Glove_model.forward(x)\n",
    "        output4 = LCNNwG_model.forward(x)\n",
    "        \n",
    "        output=output1+output2+output3+output4\n",
    "        # torch.max함수는 (최댓값,index)를 반환 \n",
    "        _,output_index = torch.max(output,1)\n",
    "        \n",
    "        # 전체 개수 += 라벨의 개수\n",
    "        total += label.size(0)\n",
    "        \n",
    "        # 도출한 모델의 index와 라벨이 일치하면 correct에 개수 추가\n",
    "        correct += (output_index == y).sum().float()\n",
    "        \n",
    "        for i in range(len(y)):\n",
    "            if y[i]!=output_index[i]:\n",
    "                k = int(y[i].cpu().numpy())\n",
    "                incorrect_num_correct[k] += 1\n",
    "                incorrect_num_answer[int(output_index[i].cpu().numpy())]+=1\n",
    "\n",
    "    \n",
    "    # 정확도 도출\n",
    "    print(\"Accuracy of Test Data: {}%\".format(100*correct/total))"
   ]
  }
 ],
 "metadata": {
  "kernelspec": {
   "display_name": "Python 3",
   "language": "python",
   "name": "python3"
  },
  "language_info": {
   "codemirror_mode": {
    "name": "ipython",
    "version": 3
   },
   "file_extension": ".py",
   "mimetype": "text/x-python",
   "name": "python",
   "nbconvert_exporter": "python",
   "pygments_lexer": "ipython3",
   "version": "3.10.12"
  }
 },
 "nbformat": 4,
 "nbformat_minor": 2
}
